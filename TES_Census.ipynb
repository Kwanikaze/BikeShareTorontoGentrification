{
  "nbformat": 4,
  "nbformat_minor": 0,
  "metadata": {
    "colab": {
      "name": "TES_Census.ipynb",
      "provenance": [],
      "collapsed_sections": [
        "gFkF4ZUg3yWw",
        "_0yCd-NuBX6Z"
      ],
      "toc_visible": true,
      "include_colab_link": true
    },
    "kernelspec": {
      "display_name": "Python 3",
      "language": "python",
      "name": "python3"
    },
    "language_info": {
      "codemirror_mode": {
        "name": "ipython",
        "version": 3
      },
      "file_extension": ".py",
      "mimetype": "text/x-python",
      "name": "python",
      "nbconvert_exporter": "python",
      "pygments_lexer": "ipython3",
      "version": "3.6.9"
    }
  },
  "cells": [
    {
      "cell_type": "markdown",
      "metadata": {
        "id": "view-in-github",
        "colab_type": "text"
      },
      "source": [
        "<a href=\"https://colab.research.google.com/github/Kwanikaze/BikeShareTorontoGentrification/blob/master/TES_Census.ipynb\" target=\"_parent\"><img src=\"https://colab.research.google.com/assets/colab-badge.svg\" alt=\"Open In Colab\"/></a>"
      ]
    },
    {
      "cell_type": "markdown",
      "metadata": {
        "id": "4-GwAEY_TsJ-",
        "colab_type": "text"
      },
      "source": [
        "\n",
        "The direct colab link to this notebook is: https://colab.research.google.com/github/D3Mlab/ppandas/blob/experiments/use_case_examples/2014_Toronto_Mayoral_Election_CoLab.ipynb"
      ]
    },
    {
      "cell_type": "markdown",
      "metadata": {
        "id": "gJ8wV6rCby2t",
        "colab_type": "text"
      },
      "source": [
        "# Package Imports"
      ]
    },
    {
      "cell_type": "code",
      "metadata": {
        "colab_type": "code",
        "id": "sh1EuLkmj68N",
        "outputId": "243539c1-c315-456c-ec26-e5082dacbbb0",
        "colab": {
          "base_uri": "https://localhost:8080/",
          "height": 102
        }
      },
      "source": [
        "!pip install -i https://test.pypi.org/simple/ PPandas==0.0.1.6.9"
      ],
      "execution_count": 0,
      "outputs": [
        {
          "output_type": "stream",
          "text": [
            "Looking in indexes: https://test.pypi.org/simple/\n",
            "Collecting PPandas==0.0.1.6.9\n",
            "  Downloading https://test-files.pythonhosted.org/packages/38/4d/39a27346c88a4c7c76f12bf346f839b9037f86b0009ae516acd9322c562a/PPandas-0.0.1.6.9-py3-none-any.whl\n",
            "Installing collected packages: PPandas\n",
            "Successfully installed PPandas-0.0.1.6.9\n"
          ],
          "name": "stdout"
        }
      ]
    },
    {
      "cell_type": "code",
      "metadata": {
        "colab_type": "code",
        "id": "YXwcE7oYlgYB",
        "outputId": "019d9ab1-3372-4021-e859-9319cb6375cf",
        "colab": {
          "base_uri": "https://localhost:8080/",
          "height": 867
        }
      },
      "source": [
        "!pip install pgmpy==0.1.9\n",
        "!pip install networkx==2.4\n",
        "!pip install matplotlib\n",
        "!pip install python-intervals\n",
        "!pip install geopandas\n",
        "!pip install geovoronoi"
      ],
      "execution_count": 0,
      "outputs": [
        {
          "output_type": "stream",
          "text": [
            "Collecting pgmpy==0.1.9\n",
            "\u001b[?25l  Downloading https://files.pythonhosted.org/packages/5a/b1/18dfdfcb10dcce71fd39f8c6801407e9aebd953939682558a5317e4a021c/pgmpy-0.1.9-py3-none-any.whl (331kB)\n",
            "\u001b[K     |████████████████████████████████| 337kB 3.2MB/s \n",
            "\u001b[?25hInstalling collected packages: pgmpy\n",
            "Successfully installed pgmpy-0.1.9\n",
            "Requirement already satisfied: networkx==2.4 in /usr/local/lib/python3.6/dist-packages (2.4)\n",
            "Requirement already satisfied: decorator>=4.3.0 in /usr/local/lib/python3.6/dist-packages (from networkx==2.4) (4.4.2)\n",
            "Requirement already satisfied: matplotlib in /usr/local/lib/python3.6/dist-packages (3.2.1)\n",
            "Requirement already satisfied: numpy>=1.11 in /usr/local/lib/python3.6/dist-packages (from matplotlib) (1.18.3)\n",
            "Requirement already satisfied: python-dateutil>=2.1 in /usr/local/lib/python3.6/dist-packages (from matplotlib) (2.8.1)\n",
            "Requirement already satisfied: cycler>=0.10 in /usr/local/lib/python3.6/dist-packages (from matplotlib) (0.10.0)\n",
            "Requirement already satisfied: kiwisolver>=1.0.1 in /usr/local/lib/python3.6/dist-packages (from matplotlib) (1.2.0)\n",
            "Requirement already satisfied: pyparsing!=2.0.4,!=2.1.2,!=2.1.6,>=2.0.1 in /usr/local/lib/python3.6/dist-packages (from matplotlib) (2.4.7)\n",
            "Requirement already satisfied: six>=1.5 in /usr/local/lib/python3.6/dist-packages (from python-dateutil>=2.1->matplotlib) (1.12.0)\n",
            "Collecting python-intervals\n",
            "  Downloading https://files.pythonhosted.org/packages/4e/51/b29570d4a820610be14d232aec77e6f0c66bca3d400f4903e98cc00012cb/python_intervals-1.10.0.post1-py2.py3-none-any.whl\n",
            "Installing collected packages: python-intervals\n",
            "Successfully installed python-intervals-1.10.0.post1\n",
            "Collecting geopandas\n",
            "\u001b[?25l  Downloading https://files.pythonhosted.org/packages/83/c5/3cf9cdc39a6f2552922f79915f36b45a95b71fd343cfc51170a5b6ddb6e8/geopandas-0.7.0-py2.py3-none-any.whl (928kB)\n",
            "\u001b[K     |████████████████████████████████| 931kB 3.2MB/s \n",
            "\u001b[?25hRequirement already satisfied: shapely in /usr/local/lib/python3.6/dist-packages (from geopandas) (1.7.0)\n",
            "Collecting pyproj>=2.2.0\n",
            "\u001b[?25l  Downloading https://files.pythonhosted.org/packages/e5/c3/071e080230ac4b6c64f1a2e2f9161c9737a2bc7b683d2c90b024825000c0/pyproj-2.6.1.post1-cp36-cp36m-manylinux2010_x86_64.whl (10.9MB)\n",
            "\u001b[K     |████████████████████████████████| 10.9MB 9.4MB/s \n",
            "\u001b[?25hRequirement already satisfied: pandas>=0.23.0 in /usr/local/lib/python3.6/dist-packages (from geopandas) (1.0.3)\n",
            "Collecting fiona\n",
            "\u001b[?25l  Downloading https://files.pythonhosted.org/packages/ec/20/4e63bc5c6e62df889297b382c3ccd4a7a488b00946aaaf81a118158c6f09/Fiona-1.8.13.post1-cp36-cp36m-manylinux1_x86_64.whl (14.7MB)\n",
            "\u001b[K     |████████████████████████████████| 14.7MB 329kB/s \n",
            "\u001b[?25hRequirement already satisfied: numpy>=1.13.3 in /usr/local/lib/python3.6/dist-packages (from pandas>=0.23.0->geopandas) (1.18.3)\n",
            "Requirement already satisfied: pytz>=2017.2 in /usr/local/lib/python3.6/dist-packages (from pandas>=0.23.0->geopandas) (2018.9)\n",
            "Requirement already satisfied: python-dateutil>=2.6.1 in /usr/local/lib/python3.6/dist-packages (from pandas>=0.23.0->geopandas) (2.8.1)\n",
            "Requirement already satisfied: click<8,>=4.0 in /usr/local/lib/python3.6/dist-packages (from fiona->geopandas) (7.1.2)\n",
            "Collecting cligj>=0.5\n",
            "  Downloading https://files.pythonhosted.org/packages/e4/be/30a58b4b0733850280d01f8bd132591b4668ed5c7046761098d665ac2174/cligj-0.5.0-py3-none-any.whl\n",
            "Requirement already satisfied: six>=1.7 in /usr/local/lib/python3.6/dist-packages (from fiona->geopandas) (1.12.0)\n",
            "Collecting click-plugins>=1.0\n",
            "  Downloading https://files.pythonhosted.org/packages/e9/da/824b92d9942f4e472702488857914bdd50f73021efea15b4cad9aca8ecef/click_plugins-1.1.1-py2.py3-none-any.whl\n",
            "Requirement already satisfied: attrs>=17 in /usr/local/lib/python3.6/dist-packages (from fiona->geopandas) (19.3.0)\n",
            "Collecting munch\n",
            "  Downloading https://files.pythonhosted.org/packages/cc/ab/85d8da5c9a45e072301beb37ad7f833cd344e04c817d97e0cc75681d248f/munch-2.5.0-py2.py3-none-any.whl\n",
            "Installing collected packages: pyproj, cligj, click-plugins, munch, fiona, geopandas\n",
            "Successfully installed click-plugins-1.1.1 cligj-0.5.0 fiona-1.8.13.post1 geopandas-0.7.0 munch-2.5.0 pyproj-2.6.1.post1\n",
            "Collecting geovoronoi\n",
            "  Downloading https://files.pythonhosted.org/packages/6e/f6/639bf479d77ab50733a958fab233c0d6cb94896f6b2d328127a11c6efa38/geovoronoi-0.2.0-py3-none-any.whl\n",
            "Requirement already satisfied: scipy>=1.4.0 in /usr/local/lib/python3.6/dist-packages (from geovoronoi) (1.4.1)\n",
            "Requirement already satisfied: numpy>=1.18.0 in /usr/local/lib/python3.6/dist-packages (from geovoronoi) (1.18.3)\n",
            "Requirement already satisfied: shapely>=1.7.0 in /usr/local/lib/python3.6/dist-packages (from geovoronoi) (1.7.0)\n",
            "Installing collected packages: geovoronoi\n",
            "Successfully installed geovoronoi-0.2.0\n"
          ],
          "name": "stdout"
        }
      ]
    },
    {
      "cell_type": "code",
      "metadata": {
        "id": "WYWHXjkIBwDp",
        "colab_type": "code",
        "colab": {}
      },
      "source": [
        "import pandas as pd\n",
        "import numpy as np\n",
        "from ppandas import PDataFrame"
      ],
      "execution_count": 0,
      "outputs": []
    },
    {
      "cell_type": "markdown",
      "metadata": {
        "id": "gFkF4ZUg3yWw",
        "colab_type": "text"
      },
      "source": [
        "# Data Processing"
      ]
    },
    {
      "cell_type": "markdown",
      "metadata": {
        "id": "fcqouV1a3YKa",
        "colab_type": "text"
      },
      "source": [
        "### Toronto Election Study (TES)\n"
      ]
    },
    {
      "cell_type": "markdown",
      "metadata": {
        "id": "SRIQ776zbOMg",
        "colab_type": "text"
      },
      "source": [
        "Create a dataframe using the TES dataset columns of Age, Ward, and mayoral candidate preference. The TES dataset can be found [here](http://www.torontoelectionstudy.com/data)."
      ]
    },
    {
      "cell_type": "code",
      "metadata": {
        "id": "llYEAtRC26JM",
        "colab_type": "code",
        "outputId": "ec8da028-02ff-4f49-cc30-833541e40f22",
        "colab": {
          "base_uri": "https://localhost:8080/",
          "height": 204
        }
      },
      "source": [
        "TES_df  = pd.read_stata('Toronto+Election+Study.dta')[['AGE','CPS5','CPS9']]\n",
        "TES_df.head()"
      ],
      "execution_count": 0,
      "outputs": [
        {
          "output_type": "execute_result",
          "data": {
            "text/html": [
              "<div>\n",
              "<style scoped>\n",
              "    .dataframe tbody tr th:only-of-type {\n",
              "        vertical-align: middle;\n",
              "    }\n",
              "\n",
              "    .dataframe tbody tr th {\n",
              "        vertical-align: top;\n",
              "    }\n",
              "\n",
              "    .dataframe thead th {\n",
              "        text-align: right;\n",
              "    }\n",
              "</style>\n",
              "<table border=\"1\" class=\"dataframe\">\n",
              "  <thead>\n",
              "    <tr style=\"text-align: right;\">\n",
              "      <th></th>\n",
              "      <th>AGE</th>\n",
              "      <th>CPS5</th>\n",
              "      <th>CPS9</th>\n",
              "    </tr>\n",
              "  </thead>\n",
              "  <tbody>\n",
              "    <tr>\n",
              "      <th>0</th>\n",
              "      <td>68.0</td>\n",
              "      <td>Ward 23 Willowdale (Current Councillor: John F...</td>\n",
              "      <td>John Tory</td>\n",
              "    </tr>\n",
              "    <tr>\n",
              "      <th>1</th>\n",
              "      <td>65.0</td>\n",
              "      <td>Ward 13 Parkdale-High Park (Current Councillor...</td>\n",
              "      <td>John Tory</td>\n",
              "    </tr>\n",
              "    <tr>\n",
              "      <th>2</th>\n",
              "      <td>65.0</td>\n",
              "      <td>Ward 35 Scarborough Southwest (Current Council...</td>\n",
              "      <td>Don't know or haven't decided</td>\n",
              "    </tr>\n",
              "    <tr>\n",
              "      <th>3</th>\n",
              "      <td>68.0</td>\n",
              "      <td>Ward 13 Parkdale-High Park (Current Councillor...</td>\n",
              "      <td>John Tory</td>\n",
              "    </tr>\n",
              "    <tr>\n",
              "      <th>4</th>\n",
              "      <td>49.0</td>\n",
              "      <td>Ward 9 York Centre (Current Councillor: Maria ...</td>\n",
              "      <td>Other</td>\n",
              "    </tr>\n",
              "  </tbody>\n",
              "</table>\n",
              "</div>"
            ],
            "text/plain": [
              "    AGE  ...                           CPS9\n",
              "0  68.0  ...                      John Tory\n",
              "1  65.0  ...                      John Tory\n",
              "2  65.0  ...  Don't know or haven't decided\n",
              "3  68.0  ...                      John Tory\n",
              "4  49.0  ...                          Other\n",
              "\n",
              "[5 rows x 3 columns]"
            ]
          },
          "metadata": {
            "tags": []
          },
          "execution_count": 6
        }
      ]
    },
    {
      "cell_type": "markdown",
      "metadata": {
        "id": "xL3haR5-b6c8",
        "colab_type": "text"
      },
      "source": [
        "There are 3000 respondents in the TES dataset"
      ]
    },
    {
      "cell_type": "code",
      "metadata": {
        "id": "DlXQfhe_AJ9W",
        "colab_type": "code",
        "outputId": "b3f463f5-9d31-42e5-a753-cd55ca53a2d9",
        "colab": {
          "base_uri": "https://localhost:8080/",
          "height": 297
        }
      },
      "source": [
        "TES_df.describe()"
      ],
      "execution_count": 0,
      "outputs": [
        {
          "output_type": "execute_result",
          "data": {
            "text/html": [
              "<div>\n",
              "<style scoped>\n",
              "    .dataframe tbody tr th:only-of-type {\n",
              "        vertical-align: middle;\n",
              "    }\n",
              "\n",
              "    .dataframe tbody tr th {\n",
              "        vertical-align: top;\n",
              "    }\n",
              "\n",
              "    .dataframe thead th {\n",
              "        text-align: right;\n",
              "    }\n",
              "</style>\n",
              "<table border=\"1\" class=\"dataframe\">\n",
              "  <thead>\n",
              "    <tr style=\"text-align: right;\">\n",
              "      <th></th>\n",
              "      <th>AGE</th>\n",
              "    </tr>\n",
              "  </thead>\n",
              "  <tbody>\n",
              "    <tr>\n",
              "      <th>count</th>\n",
              "      <td>3000.0000</td>\n",
              "    </tr>\n",
              "    <tr>\n",
              "      <th>mean</th>\n",
              "      <td>50.0060</td>\n",
              "    </tr>\n",
              "    <tr>\n",
              "      <th>std</th>\n",
              "      <td>15.4017</td>\n",
              "    </tr>\n",
              "    <tr>\n",
              "      <th>min</th>\n",
              "      <td>18.0000</td>\n",
              "    </tr>\n",
              "    <tr>\n",
              "      <th>25%</th>\n",
              "      <td>37.0000</td>\n",
              "    </tr>\n",
              "    <tr>\n",
              "      <th>50%</th>\n",
              "      <td>50.0000</td>\n",
              "    </tr>\n",
              "    <tr>\n",
              "      <th>75%</th>\n",
              "      <td>62.0000</td>\n",
              "    </tr>\n",
              "    <tr>\n",
              "      <th>max</th>\n",
              "      <td>114.0000</td>\n",
              "    </tr>\n",
              "  </tbody>\n",
              "</table>\n",
              "</div>"
            ],
            "text/plain": [
              "             AGE\n",
              "count  3000.0000\n",
              "mean     50.0060\n",
              "std      15.4017\n",
              "min      18.0000\n",
              "25%      37.0000\n",
              "50%      50.0000\n",
              "75%      62.0000\n",
              "max     114.0000"
            ]
          },
          "metadata": {
            "tags": []
          },
          "execution_count": 7
        }
      ]
    },
    {
      "cell_type": "markdown",
      "metadata": {
        "id": "A-Xmxyw8blAO",
        "colab_type": "text"
      },
      "source": [
        "Convert the Age attribute into bins: (17,23],(23,28),...(63,114]\n"
      ]
    },
    {
      "cell_type": "code",
      "metadata": {
        "id": "GbGJ466f3uJZ",
        "colab_type": "code",
        "colab": {}
      },
      "source": [
        "# Age\n",
        "age_values = [17,23,28,33,38,43,48,53,58,63,114]\n",
        "TES_df['AGE'] = pd.cut(TES_df['AGE'],age_values)\n",
        "TES_df.astype({'AGE': str})\n",
        "\n",
        "# Ward\n",
        "TES_df.CPS5 = TES_df['CPS5'].str.replace(r\"[\\D]\",'')\n",
        "TES_df.rename({'CPS5':'WARD44'},axis=1, inplace=True)\n",
        "TES_df = TES_df[TES_df['WARD44'] !='']\n",
        "\n",
        "# Candidate Vote - before election who they were leaning towards\n",
        "mapDict = {'Doug Ford':'Doug Ford', 'Olivia Chow':'Olivia Chow', 'John Tory':'John Tory', 'Other':'Other', \"Don't know or haven't decided\": 'Unknown'}\n",
        "TES_df.CPS9=TES_df.CPS9.map(mapDict)\n",
        "TES_df.rename({'CPS9':'VOTE'},axis=1, inplace=True)\n",
        "TES_df = TES_df[TES_df['VOTE'] !='Unknown']"
      ],
      "execution_count": 0,
      "outputs": []
    },
    {
      "cell_type": "markdown",
      "metadata": {
        "id": "q79ZgOml4eld",
        "colab_type": "text"
      },
      "source": [
        "### Census"
      ]
    },
    {
      "cell_type": "code",
      "metadata": {
        "id": "dLCaZvt04oiM",
        "colab_type": "code",
        "colab": {}
      },
      "source": [
        "#Marginal distribution of Age\n",
        "age_marginal_df = pd.read_csv('census2011_age.csv')\n",
        "age_marginal_df.head()"
      ],
      "execution_count": 0,
      "outputs": []
    },
    {
      "cell_type": "code",
      "metadata": {
        "id": "ypVS-WGuCDyP",
        "colab_type": "code",
        "colab": {}
      },
      "source": [
        "#Marginal distribution of Ward\n",
        "ward_marginal_df = pd.read_csv('census2011_ward.csv')\n",
        "ward_marginal_df.head()"
      ],
      "execution_count": 0,
      "outputs": []
    },
    {
      "cell_type": "markdown",
      "metadata": {
        "id": "_0yCd-NuBX6Z",
        "colab_type": "text"
      },
      "source": [
        "# ppandas Analysis"
      ]
    },
    {
      "cell_type": "code",
      "metadata": {
        "id": "aZAaTtyPCo5V",
        "colab_type": "code",
        "colab": {}
      },
      "source": [
        "#Create TES PDataFrame\n",
        "indep_vars = ['AGE','WARD44']\n",
        "all_vars = indep_vars + ['VOTE']\n",
        "TES_pdf = PDataFrame(indep_vars, TES_df[all_vars])"
      ],
      "execution_count": 0,
      "outputs": []
    },
    {
      "cell_type": "code",
      "metadata": {
        "id": "PmQ96rnUBabj",
        "colab_type": "code",
        "colab": {}
      },
      "source": [
        "# Read in aggregate-level census data\n",
        "age_marginal_pdf = PDataFrame.from_populational_data([\"AGE\"],age_marginal_df,2615090)\n",
        "ward_marginal_pdf = PDataFrame.from_populational_data([\"WARD44\"],ward_marginal_df,2615090)"
      ],
      "execution_count": 0,
      "outputs": []
    },
    {
      "cell_type": "code",
      "metadata": {
        "id": "cSoasIZlBk9j",
        "colab_type": "code",
        "colab": {}
      },
      "source": [
        "#Replace TES marginal distributions of Age and Ward with census distributions\n",
        "join_pdf = age_marginal_pdf.pjoin(TES_pdf,mismatches={\"AGE\":'numerical'})\n",
        "join_pdf = ward_marginal_pdf.pjoin(join_pdf)\n",
        "join_pdf.visualise()"
      ],
      "execution_count": 0,
      "outputs": []
    },
    {
      "cell_type": "code",
      "metadata": {
        "id": "e4pErcToOVtQ",
        "colab_type": "code",
        "colab": {}
      },
      "source": [
        "#Query VOTE\n",
        "print('ppandas 2011 Census + TES(n = {}):'.format(join_pdf.num_of_records))\n",
        "queryResults= join_pdf.query(['VOTE'])\n",
        "print(queryResults)"
      ],
      "execution_count": 0,
      "outputs": []
    },
    {
      "cell_type": "code",
      "metadata": {
        "id": "C1JMCGDtaCjG",
        "colab_type": "code",
        "colab": {}
      },
      "source": [
        ""
      ],
      "execution_count": 0,
      "outputs": []
    }
  ]
}